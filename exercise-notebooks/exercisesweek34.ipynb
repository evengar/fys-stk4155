{
 "cells": [
  {
   "cell_type": "markdown",
   "id": "72dc0997",
   "metadata": {
    "editable": true
   },
   "source": [
    "<!-- HTML file automatically generated from DocOnce source (https://github.com/doconce/doconce/)\n",
    "doconce format html exercisesweek34.do.txt  -->\n",
    "<!-- dom:TITLE: Exercises week 34 -->"
   ]
  },
  {
   "cell_type": "markdown",
   "id": "8c591125",
   "metadata": {
    "editable": true
   },
   "source": [
    "# Exercises week 34\n",
    "**FYS-STK3155/4155**\n",
    "\n",
    "Date: **August 19-23, 2024**"
   ]
  },
  {
   "cell_type": "code",
   "execution_count": null,
   "id": "4a86bb2a",
   "metadata": {},
   "outputs": [],
   "source": []
  },
  {
   "cell_type": "markdown",
   "id": "1ad21876",
   "metadata": {
    "editable": true
   },
   "source": [
    "## Exercises\n",
    "\n",
    "Here are three possible exercises for week 34"
   ]
  },
  {
   "cell_type": "markdown",
   "id": "4eaa91e2",
   "metadata": {
    "editable": true
   },
   "source": [
    "## Exercise 1: Setting up various Python environments\n",
    "\n",
    "The first exercise here is of a mere technical art. We want you to have \n",
    "* git as a version control software and to establish a user account on a provider like GitHub. Other providers like GitLab etc are equally fine. You can also use the University of Oslo [GitHub facilities](https://www.uio.no/tjenester/it/maskin/filer/versjonskontroll/github.html). \n",
    "\n",
    "* Install various Python packages\n",
    "\n",
    "We will make extensive use of Python as programming language and its\n",
    "myriad of available libraries.  You will find\n",
    "IPython/Jupyter notebooks invaluable in your work.  You can run **R**\n",
    "codes in the Jupyter/IPython notebooks, with the immediate benefit of\n",
    "visualizing your data. You can also use compiled languages like C++,\n",
    "Rust, Fortran etc if you prefer. The focus in these lectures will be\n",
    "on Python.\n",
    "\n",
    "If you have Python installed (we recommend Python3) and you feel\n",
    "pretty familiar with installing different packages, we recommend that\n",
    "you install the following Python packages via **pip** as \n",
    "\n",
    "1. pip install numpy scipy matplotlib ipython scikit-learn sympy pandas pillow \n",
    "\n",
    "For **Tensorflow**, we recommend following the instructions in the text of \n",
    "[Aurelien Geron, Hands‑On Machine Learning with Scikit‑Learn and TensorFlow, O'Reilly](http://shop.oreilly.com/product/0636920052289.do)\n",
    "\n",
    "We will come back to **tensorflow** later. \n",
    "\n",
    "For Python3, replace **pip** with **pip3**.\n",
    "\n",
    "For OSX users we recommend, after having installed Xcode, to\n",
    "install **brew**. Brew allows for a seamless installation of additional\n",
    "software via for example \n",
    "\n",
    "1. brew install python3\n",
    "\n",
    "For Linux users, with its variety of distributions like for example the widely popular Ubuntu distribution,\n",
    "you can use **pip** as well and simply install Python as \n",
    "\n",
    "1. sudo apt-get install python3  (or python for Python2.7)\n",
    "\n",
    "If you don't want to perform these operations separately and venture\n",
    "into the hassle of exploring how to set up dependencies and paths, we\n",
    "recommend two widely used distrubutions which set up all relevant\n",
    "dependencies for Python, namely \n",
    "\n",
    "* [Anaconda](https://docs.anaconda.com/), \n",
    "\n",
    "which is an open source\n",
    "distribution of the Python and R programming languages for large-scale\n",
    "data processing, predictive analytics, and scientific computing, that\n",
    "aims to simplify package management and deployment. Package versions\n",
    "are managed by the package management system **conda**. \n",
    "\n",
    "* [Enthought canopy](https://www.enthought.com/product/canopy/) \n",
    "\n",
    "is a Python\n",
    "distribution for scientific and analytic computing distribution and\n",
    "analysis environment, available for free and under a commercial\n",
    "license.\n",
    "\n",
    "We recommend using **Anaconda** if you are not too familiar with setting paths in a terminal environment."
   ]
  },
  {
   "cell_type": "markdown",
   "id": "360adb56",
   "metadata": {
    "editable": true
   },
   "source": [
    "## Exercise 2: making your own data and exploring scikit-learn\n",
    "\n",
    "We will generate our own dataset for a function $y(x)$ where $x \\in [0,1]$ and defined by random numbers computed with the uniform distribution. The function $y$ is a quadratic polynomial in $x$ with added stochastic noise according to the normal distribution $\\cal {N}(0,1)$.\n",
    "The following simple Python instructions define our $x$ and $y$ values (with 100 data points)."
   ]
  },
  {
   "cell_type": "code",
   "execution_count": 88,
   "id": "37dbd039",
   "metadata": {},
   "outputs": [
    {
     "data": {
      "text/plain": [
       "array([[0.37454012]])"
      ]
     },
     "execution_count": 88,
     "metadata": {},
     "output_type": "execute_result"
    }
   ],
   "source": [
    "import numpy as np\n",
    "np.random.seed(42)\n",
    "np.random.rand(1,1)"
   ]
  },
  {
   "cell_type": "code",
   "execution_count": 85,
   "id": "278aa34f",
   "metadata": {
    "collapsed": false,
    "editable": true
   },
   "outputs": [],
   "source": [
    "import numpy as np\n",
    "import matplotlib.pyplot as plt\n",
    "from IPython.display import display\n",
    "\n",
    "np.random.seed(10)\n",
    "x = np.random.rand(100,1)\n",
    "noise = 0.1*np.random.randn(100,1)\n",
    "yn = 2.0+5*x*x \n",
    "y = yn + noise"
   ]
  },
  {
   "cell_type": "code",
   "execution_count": 89,
   "id": "2493b8e6",
   "metadata": {},
   "outputs": [
    {
     "data": {
      "text/plain": [
       "array([[5.0854485 ],\n",
       "       [2.02660761],\n",
       "       [4.00135923],\n",
       "       [4.72814698],\n",
       "       [3.31374211],\n",
       "       [2.34449457],\n",
       "       [2.14793518],\n",
       "       [4.90099358],\n",
       "       [2.22569224],\n",
       "       [1.8435684 ],\n",
       "       [4.36033797],\n",
       "       [6.35404867],\n",
       "       [1.90778702],\n",
       "       [3.35867972],\n",
       "       [5.28732746],\n",
       "       [3.83592708],\n",
       "       [4.57505531],\n",
       "       [2.51077906],\n",
       "       [6.28222975],\n",
       "       [4.47436586],\n",
       "       [3.50106603],\n",
       "       [2.05398089],\n",
       "       [2.93734918],\n",
       "       [4.19834498],\n",
       "       [2.94479989],\n",
       "       [2.90695254],\n",
       "       [3.86427757],\n",
       "       [3.3306647 ],\n",
       "       [4.1423874 ],\n",
       "       [3.64438204],\n",
       "       [5.18461065],\n",
       "       [3.228534  ],\n",
       "       [6.25183448],\n",
       "       [2.75609091],\n",
       "       [2.17923769],\n",
       "       [2.48672593],\n",
       "       [2.16721378],\n",
       "       [5.45024473],\n",
       "       [2.17666799],\n",
       "       [4.02796692],\n",
       "       [3.47625833],\n",
       "       [5.24320079],\n",
       "       [2.13390436],\n",
       "       [5.70234526],\n",
       "       [2.4957143 ],\n",
       "       [4.82528638],\n",
       "       [2.57195929],\n",
       "       [5.90964947],\n",
       "       [2.72832771],\n",
       "       [2.28086779],\n",
       "       [2.7416331 ],\n",
       "       [1.90774315],\n",
       "       [5.36626837],\n",
       "       [2.06615593],\n",
       "       [2.77549486],\n",
       "       [6.61958226],\n",
       "       [6.76470999],\n",
       "       [3.0021964 ],\n",
       "       [5.44562976],\n",
       "       [2.42944209],\n",
       "       [3.83533587],\n",
       "       [6.1169557 ],\n",
       "       [3.56321595],\n",
       "       [3.79103978],\n",
       "       [1.98401487],\n",
       "       [2.64362256],\n",
       "       [1.96098408],\n",
       "       [2.52119529],\n",
       "       [2.64112636],\n",
       "       [4.69610696],\n",
       "       [2.12979858],\n",
       "       [2.91666558],\n",
       "       [2.54198352],\n",
       "       [4.09184228],\n",
       "       [2.37027141],\n",
       "       [1.88969398],\n",
       "       [5.83794346],\n",
       "       [4.83354189],\n",
       "       [5.88268585],\n",
       "       [2.82007843],\n",
       "       [3.66251381],\n",
       "       [3.37946962],\n",
       "       [3.89705623],\n",
       "       [2.40022052],\n",
       "       [2.38133778],\n",
       "       [1.9771398 ],\n",
       "       [2.51407738],\n",
       "       [2.35332355],\n",
       "       [3.6551533 ],\n",
       "       [3.56954835],\n",
       "       [2.98666521],\n",
       "       [2.3607586 ],\n",
       "       [2.07402947],\n",
       "       [6.86483204],\n",
       "       [2.79951206],\n",
       "       [3.23708388],\n",
       "       [6.79789518],\n",
       "       [2.95367794],\n",
       "       [2.46591494],\n",
       "       [3.42912205]])"
      ]
     },
     "metadata": {},
     "output_type": "display_data"
    }
   ],
   "source": [
    "display(y)"
   ]
  },
  {
   "cell_type": "markdown",
   "id": "1ff20e45",
   "metadata": {
    "editable": true
   },
   "source": [
    "1. Write your own code (following the examples under the [regression notes](https://compphysics.github.io/MachineLearning/doc/LectureNotes/_build/html/chapter1.html)) for computing the parametrization of the data set fitting a second-order polynomial. \n",
    "\n",
    "2. Use thereafter **scikit-learn** (see again the examples in the regression slides) and compare with your own code.   \n",
    "\n",
    "3. Using scikit-learn, compute also the mean square error, a risk metric corresponding to the expected value of the squared (quadratic) error defined as"
   ]
  },
  {
   "cell_type": "code",
   "execution_count": 90,
   "id": "6cc6d270",
   "metadata": {},
   "outputs": [
    {
     "name": "stdout",
     "output_type": "stream",
     "text": [
      "[[1.00000000e+00 7.71320643e-01 5.94935535e-01]\n",
      " [1.00000000e+00 2.07519494e-02 4.30643402e-04]\n",
      " [1.00000000e+00 6.33648235e-01 4.01510086e-01]\n",
      " [1.00000000e+00 7.48803883e-01 5.60707255e-01]\n",
      " [1.00000000e+00 4.98507012e-01 2.48509241e-01]\n",
      " [1.00000000e+00 2.24796646e-01 5.05335318e-02]\n",
      " [1.00000000e+00 1.98062865e-01 3.92288984e-02]\n",
      " [1.00000000e+00 7.60530712e-01 5.78406964e-01]\n",
      " [1.00000000e+00 1.69110837e-01 2.85984750e-02]\n",
      " [1.00000000e+00 8.83398142e-02 7.80392277e-03]\n",
      " [1.00000000e+00 6.85359818e-01 4.69718081e-01]\n",
      " [1.00000000e+00 9.53393346e-01 9.08958873e-01]\n",
      " [1.00000000e+00 3.94826633e-03 1.55888070e-05]\n",
      " [1.00000000e+00 5.12192263e-01 2.62340915e-01]\n",
      " [1.00000000e+00 8.12620962e-01 6.60352827e-01]\n",
      " [1.00000000e+00 6.12526067e-01 3.75188183e-01]\n",
      " [1.00000000e+00 7.21755317e-01 5.20930738e-01]\n",
      " [1.00000000e+00 2.91876068e-01 8.51916392e-02]\n",
      " [1.00000000e+00 9.17774123e-01 8.42309340e-01]\n",
      " [1.00000000e+00 7.14575783e-01 5.10618550e-01]\n",
      " [1.00000000e+00 5.42544368e-01 2.94354391e-01]\n",
      " [1.00000000e+00 1.42170048e-01 2.02123224e-02]\n",
      " [1.00000000e+00 3.73340760e-01 1.39383323e-01]\n",
      " [1.00000000e+00 6.74133615e-01 4.54456131e-01]\n",
      " [1.00000000e+00 4.41833174e-01 1.95216554e-01]\n",
      " [1.00000000e+00 4.34013993e-01 1.88368146e-01]\n",
      " [1.00000000e+00 6.17766978e-01 3.81636040e-01]\n",
      " [1.00000000e+00 5.13138243e-01 2.63310856e-01]\n",
      " [1.00000000e+00 6.50397182e-01 4.23016494e-01]\n",
      " [1.00000000e+00 6.01038953e-01 3.61247824e-01]\n",
      " [1.00000000e+00 8.05223197e-01 6.48384397e-01]\n",
      " [1.00000000e+00 5.21647152e-01 2.72115752e-01]\n",
      " [1.00000000e+00 9.08648881e-01 8.25642789e-01]\n",
      " [1.00000000e+00 3.19236089e-01 1.01911681e-01]\n",
      " [1.00000000e+00 9.04593493e-02 8.18289387e-03]\n",
      " [1.00000000e+00 3.00700057e-01 9.04205241e-02]\n",
      " [1.00000000e+00 1.13984362e-01 1.29924347e-02]\n",
      " [1.00000000e+00 8.28681326e-01 6.86712741e-01]\n",
      " [1.00000000e+00 4.68963194e-02 2.19926477e-03]\n",
      " [1.00000000e+00 6.26287148e-01 3.92235592e-01]\n",
      " [1.00000000e+00 5.47586156e-01 2.99850598e-01]\n",
      " [1.00000000e+00 8.19286996e-01 6.71231181e-01]\n",
      " [1.00000000e+00 1.98947540e-01 3.95801235e-02]\n",
      " [1.00000000e+00 8.56850302e-01 7.34192441e-01]\n",
      " [1.00000000e+00 3.51652639e-01 1.23659579e-01]\n",
      " [1.00000000e+00 7.54647692e-01 5.69493138e-01]\n",
      " [1.00000000e+00 2.95961707e-01 8.75933319e-02]\n",
      " [1.00000000e+00 8.83936480e-01 7.81343700e-01]\n",
      " [1.00000000e+00 3.25511638e-01 1.05957826e-01]\n",
      " [1.00000000e+00 1.65015898e-01 2.72302465e-02]\n",
      " [1.00000000e+00 3.92529244e-01 1.54079207e-01]\n",
      " [1.00000000e+00 9.34603746e-02 8.73484161e-03]\n",
      " [1.00000000e+00 8.21105658e-01 6.74214501e-01]\n",
      " [1.00000000e+00 1.51152020e-01 2.28469330e-02]\n",
      " [1.00000000e+00 3.84114449e-01 1.47543910e-01]\n",
      " [1.00000000e+00 9.44260712e-01 8.91628293e-01]\n",
      " [1.00000000e+00 9.87625475e-01 9.75404079e-01]\n",
      " [1.00000000e+00 4.56304547e-01 2.08213840e-01]\n",
      " [1.00000000e+00 8.26122844e-01 6.82478953e-01]\n",
      " [1.00000000e+00 2.51374134e-01 6.31889553e-02]\n",
      " [1.00000000e+00 5.97371648e-01 3.56852886e-01]\n",
      " [1.00000000e+00 9.02831760e-01 8.15105187e-01]\n",
      " [1.00000000e+00 5.34557949e-01 2.85752201e-01]\n",
      " [1.00000000e+00 5.90201363e-01 3.48337649e-01]\n",
      " [1.00000000e+00 3.92817672e-02 1.54305724e-03]\n",
      " [1.00000000e+00 3.57181759e-01 1.27578809e-01]\n",
      " [1.00000000e+00 7.96130902e-02 6.33824412e-03]\n",
      " [1.00000000e+00 3.05459918e-01 9.33057617e-02]\n",
      " [1.00000000e+00 3.30719312e-01 1.09375263e-01]\n",
      " [1.00000000e+00 7.73830296e-01 5.98813327e-01]\n",
      " [1.00000000e+00 3.99592087e-02 1.59673836e-03]\n",
      " [1.00000000e+00 4.29492178e-01 1.84463531e-01]\n",
      " [1.00000000e+00 3.14926872e-01 9.91789346e-02]\n",
      " [1.00000000e+00 6.36491143e-01 4.05120975e-01]\n",
      " [1.00000000e+00 3.46347150e-01 1.19956348e-01]\n",
      " [1.00000000e+00 4.30973562e-02 1.85738211e-03]\n",
      " [1.00000000e+00 8.79915175e-01 7.74250714e-01]\n",
      " [1.00000000e+00 7.63240587e-01 5.82536194e-01]\n",
      " [1.00000000e+00 8.78096643e-01 7.71053714e-01]\n",
      " [1.00000000e+00 4.17509144e-01 1.74313885e-01]\n",
      " [1.00000000e+00 6.05577564e-01 3.66724186e-01]\n",
      " [1.00000000e+00 5.13466627e-01 2.63647977e-01]\n",
      " [1.00000000e+00 5.97836648e-01 3.57408658e-01]\n",
      " [1.00000000e+00 2.62215661e-01 6.87570529e-02]\n",
      " [1.00000000e+00 3.00871309e-01 9.05235445e-02]\n",
      " [1.00000000e+00 2.53997821e-02 6.45148928e-04]\n",
      " [1.00000000e+00 3.03062561e-01 9.18469157e-02]\n",
      " [1.00000000e+00 2.42075875e-01 5.86007295e-02]\n",
      " [1.00000000e+00 5.57578189e-01 3.10893436e-01]\n",
      " [1.00000000e+00 5.65507020e-01 3.19798190e-01]\n",
      " [1.00000000e+00 4.75132247e-01 2.25750653e-01]\n",
      " [1.00000000e+00 2.92797976e-01 8.57306549e-02]\n",
      " [1.00000000e+00 6.42510607e-02 4.12819880e-03]\n",
      " [1.00000000e+00 9.78819146e-01 9.58086920e-01]\n",
      " [1.00000000e+00 3.39707844e-01 1.15401419e-01]\n",
      " [1.00000000e+00 4.95048631e-01 2.45073147e-01]\n",
      " [1.00000000e+00 9.77080726e-01 9.54686745e-01]\n",
      " [1.00000000e+00 4.40773825e-01 1.94281565e-01]\n",
      " [1.00000000e+00 3.18272805e-01 1.01297579e-01]\n",
      " [1.00000000e+00 5.19796986e-01 2.70188907e-01]]\n"
     ]
    }
   ],
   "source": [
    "\n",
    "X = np.zeros((100,3))\n",
    "X[:,0] = 1\n",
    "X[:,1] = x.T\n",
    "X[:,2] = (x**2).T"
   ]
  },
  {
   "cell_type": "code",
   "execution_count": 91,
   "id": "ce2e894c",
   "metadata": {},
   "outputs": [
    {
     "name": "stdout",
     "output_type": "stream",
     "text": [
      "[[ 0.09094072 -0.35957733  0.30072957]\n",
      " [-0.35957733  1.8848181  -1.78425591]\n",
      " [ 0.30072957 -1.78425591  1.81652072]]\n",
      "[[2.0146372 ]\n",
      " [0.02474757]\n",
      " [4.93762474]]\n"
     ]
    }
   ],
   "source": [
    "# optimize MSE\n",
    "\n",
    "xtx_inv = np.linalg.inv(X.T.dot(X))\n",
    "print(xtx_inv)\n",
    "bhat = xtx_inv.dot(X.T).dot(y)\n",
    "print(bhat)"
   ]
  },
  {
   "cell_type": "code",
   "execution_count": 92,
   "id": "e5360288",
   "metadata": {},
   "outputs": [
    {
     "name": "stdout",
     "output_type": "stream",
     "text": [
      "[[4.97129393]\n",
      " [2.01727711]\n",
      " [4.01282459]\n",
      " [4.80173029]\n",
      " [3.25401941]\n",
      " [2.26971599]\n",
      " [2.21323635]\n",
      " [4.88941502]\n",
      " [2.16003082]\n",
      " [2.05535624]\n",
      " [4.35088981]\n",
      " [6.52632919]\n",
      " [2.01481188]\n",
      " [3.3226537 ]\n",
      " [5.29532205]\n",
      " [3.88233418]\n",
      " [4.60465939]\n",
      " [2.44250477]\n",
      " [6.19635732]\n",
      " [4.553564  ]\n",
      " [3.48147538]\n",
      " [2.11795642]\n",
      " [2.71209902]\n",
      " [4.2752542 ]\n",
      " [2.98947758]\n",
      " [2.95546921]\n",
      " [3.91430098]\n",
      " [3.32746632]\n",
      " [4.11942966]\n",
      " [3.81321764]\n",
      " [5.23604336]\n",
      " [3.37115217]\n",
      " [6.11383831]\n",
      " [2.52573915]\n",
      " [2.05727991]\n",
      " [2.46854141]\n",
      " [2.0816098 ]\n",
      " [5.42587487]\n",
      " [2.02665691]\n",
      " [3.96684845]\n",
      " [3.50873836]\n",
      " [5.34920025]\n",
      " [2.21499246]\n",
      " [5.66100892]\n",
      " [2.63392434]\n",
      " [4.84525631]\n",
      " [2.45446453]\n",
      " [5.89449446]\n",
      " [2.54587281]\n",
      " [2.15317368]\n",
      " [2.78513665]\n",
      " [2.06007949]\n",
      " [5.36397577]\n",
      " [2.13118743]\n",
      " [2.75265956]\n",
      " [6.44053128]\n",
      " [6.85525784]\n",
      " [3.05401143]\n",
      " [5.4049067 ]\n",
      " [2.33286145]\n",
      " [3.79142634]\n",
      " [6.06166363]\n",
      " [3.43880335]\n",
      " [3.74920384]\n",
      " [2.02322836]\n",
      " [2.65341286]\n",
      " [2.0479033 ]\n",
      " [2.48290543]\n",
      " [2.5628757 ]\n",
      " [4.99050312]\n",
      " [2.02351019]\n",
      " [2.93607778]\n",
      " [2.51213923]\n",
      " [4.03072416]\n",
      " [2.61550788]\n",
      " [2.02487481]\n",
      " [5.85937245]\n",
      " [4.90987067]\n",
      " [5.84354185]\n",
      " [2.88566609]\n",
      " [3.84037019]\n",
      " [3.32913903]\n",
      " [3.79418203]\n",
      " [2.36062292]\n",
      " [2.46905433]\n",
      " [2.01845128]\n",
      " [2.47564286]\n",
      " [2.3099764 ]\n",
      " [3.56351103]\n",
      " [3.60767558]\n",
      " [3.14106757]\n",
      " [2.44518904]\n",
      " [2.03661075]\n",
      " [6.76953428]\n",
      " [2.59285304]\n",
      " [3.23696768]\n",
      " [6.75270247]\n",
      " [2.98483474]\n",
      " [2.52268311]\n",
      " [3.36159234]]\n"
     ]
    }
   ],
   "source": [
    "yhat = X.dot(bhat)"
   ]
  },
  {
   "cell_type": "code",
   "execution_count": 95,
   "id": "287d2228",
   "metadata": {},
   "outputs": [
    {
     "data": {
      "text/plain": [
       "array([0.00970656])"
      ]
     },
     "execution_count": 95,
     "metadata": {},
     "output_type": "execute_result"
    }
   ],
   "source": [
    "(1 / len(y)) * sum((y - yhat)**2)"
   ]
  },
  {
   "cell_type": "markdown",
   "id": "e8809de1",
   "metadata": {
    "editable": true
   },
   "source": [
    "$$\n",
    "MSE(\\boldsymbol{y},\\boldsymbol{\\tilde{y}}) = \\frac{1}{n}\n",
    "\\sum_{i=0}^{n-1}(y_i-\\tilde{y}_i)^2,\n",
    "$$"
   ]
  },
  {
   "cell_type": "code",
   "execution_count": 96,
   "id": "a963b9ff",
   "metadata": {},
   "outputs": [
    {
     "data": {
      "image/png": "[encoded data removed]",
      "text/plain": [
       "<Figure size 640x480 with 1 Axes>"
      ]
     },
     "metadata": {},
     "output_type": "display_data"
    }
   ],
   "source": [
    "sorted_index = np.argsort(x, axis=None)\n",
    "#print(sorted_index)\n",
    "xsort = x[sorted_index]\n",
    "ysort = y[sorted_index]\n",
    "yhsort = yhat[sorted_index]\n",
    "\n",
    "plt.plot(xsort, ysort, \".\")\n",
    "plt.plot(xsort, yhsort, \"-\")\n",
    "plt.show()"
   ]
  },
  {
   "cell_type": "code",
   "execution_count": null,
   "id": "e39c9236",
   "metadata": {},
   "outputs": [],
   "source": [
    "# dette funker ikke\n",
    "\n",
    "#m = np.column_stack((x,y, yhat))\n",
    "#ms = m[np.argsort(m, 0)]\n",
    "#plt.plot(m[0], m[1])"
   ]
  },
  {
   "cell_type": "code",
   "execution_count": null,
   "id": "2cc011e5",
   "metadata": {},
   "outputs": [],
   "source": [
    "?np.argsort"
   ]
  },
  {
   "cell_type": "markdown",
   "id": "8c9e5277",
   "metadata": {
    "editable": true
   },
   "source": [
    "and the $R^2$ score function.\n",
    "If $\\tilde{\\boldsymbol{y}}_i$ is the predicted value of the $i-th$ sample and $y_i$ is the corresponding true value, then the score $R^2$ is defined as"
   ]
  },
  {
   "cell_type": "markdown",
   "id": "85a5881c",
   "metadata": {
    "editable": true
   },
   "source": [
    "$$\n",
    "R^2(\\boldsymbol{y}, \\tilde{\\boldsymbol{y}}) = 1 - \\frac{\\sum_{i=0}^{n - 1} (y_i - \\tilde{y}_i)^2}{\\sum_{i=0}^{n - 1} (y_i - \\bar{y})^2},\n",
    "$$"
   ]
  },
  {
   "cell_type": "markdown",
   "id": "4fb35d0d",
   "metadata": {
    "editable": true
   },
   "source": [
    "where we have defined the mean value  of $\\boldsymbol{y}$ as"
   ]
  },
  {
   "cell_type": "markdown",
   "id": "608f9780",
   "metadata": {
    "editable": true
   },
   "source": [
    "$$\n",
    "\\bar{y} =  \\frac{1}{n} \\sum_{i=0}^{n - 1} y_i.\n",
    "$$"
   ]
  },
  {
   "cell_type": "markdown",
   "id": "014bbc09",
   "metadata": {
    "editable": true
   },
   "source": [
    "You can use the functionality included in scikit-learn. If you feel for it, you can use your own program and define functions which compute the above two functions. \n",
    "Discuss the meaning of these results. Try also to vary the coefficient in front of the added stochastic noise term and discuss the quality of the fits."
   ]
  },
  {
   "cell_type": "markdown",
   "id": "f28863ad",
   "metadata": {
    "editable": true
   },
   "source": [
    "## Exercise 3: Split data in test and training data\n",
    "\n",
    "In this exercise we want you to to compute the MSE for the training\n",
    "data and the test data as function of the complexity of a polynomial,\n",
    "that is the degree of a given polynomial.\n",
    "\n",
    "The aim is to reproduce Figure 2.11 of [Hastie et al](https://github.com/CompPhysics/MLErasmus/blob/master/doc/Textbooks/elementsstat.pdf).\n",
    "\n",
    "Our data is defined by $x\\in [-3,3]$ with a total of for example $n=100$ data points. You should try to vary the number of data points $n$ in your analysis."
   ]
  },
  {
   "cell_type": "code",
   "execution_count": 2,
   "id": "85f75a99",
   "metadata": {
    "collapsed": false,
    "editable": true
   },
   "outputs": [],
   "source": [
    "np.random.seed()\n",
    "n = 100\n",
    "# Make data set.\n",
    "x = np.linspace(-3, 3, n).reshape(-1, 1)\n",
    "y = np.exp(-x**2) + 1.5 * np.exp(-(x-2)**2)+ np.random.normal(0, 0.1, x.shape)"
   ]
  },
  {
   "cell_type": "markdown",
   "id": "bee8d814",
   "metadata": {
    "editable": true
   },
   "source": [
    "where $y$ is the function we want to fit with a given polynomial."
   ]
  },
  {
   "cell_type": "markdown",
   "id": "7c94f8bd",
   "metadata": {
    "editable": true
   },
   "source": [
    "**a)**\n",
    "Write a first code which sets up a design matrix $X$ defined by a fifth-order polynomial and split your data set in training and test data."
   ]
  },
  {
   "cell_type": "markdown",
   "id": "c0e789dd",
   "metadata": {
    "editable": true
   },
   "source": [
    "**b)**\n",
    "Write thereafter (using either **scikit-learn** or your matrix inversion code using for example **numpy**)\n",
    "and perform an ordinary least squares fitting and compute the mean squared error for the training data and the test data. These calculations should apply to a model given by a fifth-order polynomial."
   ]
  },
  {
   "cell_type": "markdown",
   "id": "5ee1d70e",
   "metadata": {
    "editable": true
   },
   "source": [
    "**c)**\n",
    "Add now a model which allows you to make polynomials up to degree $15$.  Perform a standard OLS fitting of the training data and compute the MSE for the training and test data and plot both test and training data MSE as functions of the polynomial degree. Compare what you see with Figure 2.11 of Hastie et al. Comment your results. For which polynomial degree do you find an optimal MSE (smallest value)?"
   ]
  }
 ],
 "metadata": {
  "kernelspec": {
   "display_name": "Python 3",
   "language": "python",
   "name": "python3"
  },
  "language_info": {
   "codemirror_mode": {
    "name": "ipython",
    "version": 3
   },
   "file_extension": ".py",
   "mimetype": "text/x-python",
   "name": "python",
   "nbconvert_exporter": "python",
   "pygments_lexer": "ipython3",
   "version": "3.12.5"
  }
 },
 "nbformat": 4,
 "nbformat_minor": 5
}
