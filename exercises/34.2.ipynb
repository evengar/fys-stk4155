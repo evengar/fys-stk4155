{
 "cells": [
  {
   "cell_type": "code",
   "execution_count": null,
   "metadata": {},
   "outputs": [],
   "source": [
    "import numpy as np\n",
    "import matplotlib.pyplot as plt\n",
    "\n",
    "np.random.seed(10)\n",
    "x = np.random.rand(100,1)\n",
    "noise = 0.1*np.random.randn(100,1)\n",
    "yn = 2.0+5*x*x \n",
    "y = yn + noise"
   ]
  }
 ],
 "metadata": {
  "language_info": {
   "name": "python"
  }
 },
 "nbformat": 4,
 "nbformat_minor": 2
}
